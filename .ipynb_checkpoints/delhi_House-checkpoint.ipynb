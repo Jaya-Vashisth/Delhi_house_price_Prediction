{
 "cells": [
  {
   "cell_type": "code",
   "execution_count": 1,
   "id": "7a69ea2a",
   "metadata": {},
   "outputs": [],
   "source": [
    "import numpy as np\n",
    "import pandas as pd\n",
    "import matplotlib.pyplot as plt\n",
    "import seaborn as sns\n"
   ]
  },
  {
   "cell_type": "code",
   "execution_count": 2,
   "id": "50954f0b",
   "metadata": {},
   "outputs": [
    {
     "data": {
      "text/html": [
       "<div>\n",
       "<style scoped>\n",
       "    .dataframe tbody tr th:only-of-type {\n",
       "        vertical-align: middle;\n",
       "    }\n",
       "\n",
       "    .dataframe tbody tr th {\n",
       "        vertical-align: top;\n",
       "    }\n",
       "\n",
       "    .dataframe thead th {\n",
       "        text-align: right;\n",
       "    }\n",
       "</style>\n",
       "<table border=\"1\" class=\"dataframe\">\n",
       "  <thead>\n",
       "    <tr style=\"text-align: right;\">\n",
       "      <th></th>\n",
       "      <th>Area</th>\n",
       "      <th>BHK</th>\n",
       "      <th>Bathroom</th>\n",
       "      <th>Furnishing</th>\n",
       "      <th>Locality</th>\n",
       "      <th>Parking</th>\n",
       "      <th>Price</th>\n",
       "      <th>Status</th>\n",
       "      <th>Transaction</th>\n",
       "      <th>Type</th>\n",
       "      <th>Per_Sqft</th>\n",
       "    </tr>\n",
       "  </thead>\n",
       "  <tbody>\n",
       "    <tr>\n",
       "      <th>0</th>\n",
       "      <td>800.0</td>\n",
       "      <td>3</td>\n",
       "      <td>2.0</td>\n",
       "      <td>Semi-Furnished</td>\n",
       "      <td>Rohini Sector 25</td>\n",
       "      <td>1.0</td>\n",
       "      <td>6500000</td>\n",
       "      <td>Ready_to_move</td>\n",
       "      <td>New_Property</td>\n",
       "      <td>Builder_Floor</td>\n",
       "      <td>NaN</td>\n",
       "    </tr>\n",
       "    <tr>\n",
       "      <th>1</th>\n",
       "      <td>750.0</td>\n",
       "      <td>2</td>\n",
       "      <td>2.0</td>\n",
       "      <td>Semi-Furnished</td>\n",
       "      <td>J R Designers Floors, Rohini Sector 24</td>\n",
       "      <td>1.0</td>\n",
       "      <td>5000000</td>\n",
       "      <td>Ready_to_move</td>\n",
       "      <td>New_Property</td>\n",
       "      <td>Apartment</td>\n",
       "      <td>6667.0</td>\n",
       "    </tr>\n",
       "    <tr>\n",
       "      <th>2</th>\n",
       "      <td>950.0</td>\n",
       "      <td>2</td>\n",
       "      <td>2.0</td>\n",
       "      <td>Furnished</td>\n",
       "      <td>Citizen Apartment, Rohini Sector 13</td>\n",
       "      <td>1.0</td>\n",
       "      <td>15500000</td>\n",
       "      <td>Ready_to_move</td>\n",
       "      <td>Resale</td>\n",
       "      <td>Apartment</td>\n",
       "      <td>6667.0</td>\n",
       "    </tr>\n",
       "    <tr>\n",
       "      <th>3</th>\n",
       "      <td>600.0</td>\n",
       "      <td>2</td>\n",
       "      <td>2.0</td>\n",
       "      <td>Semi-Furnished</td>\n",
       "      <td>Rohini Sector 24</td>\n",
       "      <td>1.0</td>\n",
       "      <td>4200000</td>\n",
       "      <td>Ready_to_move</td>\n",
       "      <td>Resale</td>\n",
       "      <td>Builder_Floor</td>\n",
       "      <td>6667.0</td>\n",
       "    </tr>\n",
       "    <tr>\n",
       "      <th>4</th>\n",
       "      <td>650.0</td>\n",
       "      <td>2</td>\n",
       "      <td>2.0</td>\n",
       "      <td>Semi-Furnished</td>\n",
       "      <td>Rohini Sector 24 carpet area 650 sqft status R...</td>\n",
       "      <td>1.0</td>\n",
       "      <td>6200000</td>\n",
       "      <td>Ready_to_move</td>\n",
       "      <td>New_Property</td>\n",
       "      <td>Builder_Floor</td>\n",
       "      <td>6667.0</td>\n",
       "    </tr>\n",
       "    <tr>\n",
       "      <th>...</th>\n",
       "      <td>...</td>\n",
       "      <td>...</td>\n",
       "      <td>...</td>\n",
       "      <td>...</td>\n",
       "      <td>...</td>\n",
       "      <td>...</td>\n",
       "      <td>...</td>\n",
       "      <td>...</td>\n",
       "      <td>...</td>\n",
       "      <td>...</td>\n",
       "      <td>...</td>\n",
       "    </tr>\n",
       "    <tr>\n",
       "      <th>1254</th>\n",
       "      <td>4118.0</td>\n",
       "      <td>4</td>\n",
       "      <td>5.0</td>\n",
       "      <td>Unfurnished</td>\n",
       "      <td>Chittaranjan Park</td>\n",
       "      <td>3.0</td>\n",
       "      <td>55000000</td>\n",
       "      <td>Ready_to_move</td>\n",
       "      <td>New_Property</td>\n",
       "      <td>Builder_Floor</td>\n",
       "      <td>12916.0</td>\n",
       "    </tr>\n",
       "    <tr>\n",
       "      <th>1255</th>\n",
       "      <td>1050.0</td>\n",
       "      <td>3</td>\n",
       "      <td>2.0</td>\n",
       "      <td>Semi-Furnished</td>\n",
       "      <td>Chittaranjan Park</td>\n",
       "      <td>3.0</td>\n",
       "      <td>12500000</td>\n",
       "      <td>Ready_to_move</td>\n",
       "      <td>Resale</td>\n",
       "      <td>Builder_Floor</td>\n",
       "      <td>12916.0</td>\n",
       "    </tr>\n",
       "    <tr>\n",
       "      <th>1256</th>\n",
       "      <td>875.0</td>\n",
       "      <td>3</td>\n",
       "      <td>3.0</td>\n",
       "      <td>Semi-Furnished</td>\n",
       "      <td>Chittaranjan Park</td>\n",
       "      <td>3.0</td>\n",
       "      <td>17500000</td>\n",
       "      <td>Ready_to_move</td>\n",
       "      <td>New_Property</td>\n",
       "      <td>Builder_Floor</td>\n",
       "      <td>12916.0</td>\n",
       "    </tr>\n",
       "    <tr>\n",
       "      <th>1257</th>\n",
       "      <td>990.0</td>\n",
       "      <td>2</td>\n",
       "      <td>2.0</td>\n",
       "      <td>Unfurnished</td>\n",
       "      <td>Chittaranjan Park Block A</td>\n",
       "      <td>1.0</td>\n",
       "      <td>11500000</td>\n",
       "      <td>Ready_to_move</td>\n",
       "      <td>Resale</td>\n",
       "      <td>Builder_Floor</td>\n",
       "      <td>12916.0</td>\n",
       "    </tr>\n",
       "    <tr>\n",
       "      <th>1258</th>\n",
       "      <td>11050.0</td>\n",
       "      <td>3</td>\n",
       "      <td>3.0</td>\n",
       "      <td>Unfurnished</td>\n",
       "      <td>Chittaranjan Park</td>\n",
       "      <td>1.0</td>\n",
       "      <td>18500000</td>\n",
       "      <td>Ready_to_move</td>\n",
       "      <td>New_Property</td>\n",
       "      <td>Builder_Floor</td>\n",
       "      <td>12916.0</td>\n",
       "    </tr>\n",
       "  </tbody>\n",
       "</table>\n",
       "<p>1259 rows × 11 columns</p>\n",
       "</div>"
      ],
      "text/plain": [
       "         Area  BHK  Bathroom      Furnishing  \\\n",
       "0       800.0    3       2.0  Semi-Furnished   \n",
       "1       750.0    2       2.0  Semi-Furnished   \n",
       "2       950.0    2       2.0       Furnished   \n",
       "3       600.0    2       2.0  Semi-Furnished   \n",
       "4       650.0    2       2.0  Semi-Furnished   \n",
       "...       ...  ...       ...             ...   \n",
       "1254   4118.0    4       5.0     Unfurnished   \n",
       "1255   1050.0    3       2.0  Semi-Furnished   \n",
       "1256    875.0    3       3.0  Semi-Furnished   \n",
       "1257    990.0    2       2.0     Unfurnished   \n",
       "1258  11050.0    3       3.0     Unfurnished   \n",
       "\n",
       "                                               Locality  Parking     Price  \\\n",
       "0                                      Rohini Sector 25      1.0   6500000   \n",
       "1                J R Designers Floors, Rohini Sector 24      1.0   5000000   \n",
       "2                   Citizen Apartment, Rohini Sector 13      1.0  15500000   \n",
       "3                                      Rohini Sector 24      1.0   4200000   \n",
       "4     Rohini Sector 24 carpet area 650 sqft status R...      1.0   6200000   \n",
       "...                                                 ...      ...       ...   \n",
       "1254                                  Chittaranjan Park      3.0  55000000   \n",
       "1255                                  Chittaranjan Park      3.0  12500000   \n",
       "1256                                  Chittaranjan Park      3.0  17500000   \n",
       "1257                          Chittaranjan Park Block A      1.0  11500000   \n",
       "1258                                  Chittaranjan Park      1.0  18500000   \n",
       "\n",
       "             Status   Transaction           Type  Per_Sqft  \n",
       "0     Ready_to_move  New_Property  Builder_Floor       NaN  \n",
       "1     Ready_to_move  New_Property      Apartment    6667.0  \n",
       "2     Ready_to_move        Resale      Apartment    6667.0  \n",
       "3     Ready_to_move        Resale  Builder_Floor    6667.0  \n",
       "4     Ready_to_move  New_Property  Builder_Floor    6667.0  \n",
       "...             ...           ...            ...       ...  \n",
       "1254  Ready_to_move  New_Property  Builder_Floor   12916.0  \n",
       "1255  Ready_to_move        Resale  Builder_Floor   12916.0  \n",
       "1256  Ready_to_move  New_Property  Builder_Floor   12916.0  \n",
       "1257  Ready_to_move        Resale  Builder_Floor   12916.0  \n",
       "1258  Ready_to_move  New_Property  Builder_Floor   12916.0  \n",
       "\n",
       "[1259 rows x 11 columns]"
      ]
     },
     "execution_count": 2,
     "metadata": {},
     "output_type": "execute_result"
    }
   ],
   "source": [
    "data = pd.read_csv('MagicBricks.csv')\n",
    "data"
   ]
  },
  {
   "cell_type": "code",
   "execution_count": 3,
   "id": "9c511881",
   "metadata": {},
   "outputs": [
    {
     "data": {
      "text/html": [
       "<div>\n",
       "<style scoped>\n",
       "    .dataframe tbody tr th:only-of-type {\n",
       "        vertical-align: middle;\n",
       "    }\n",
       "\n",
       "    .dataframe tbody tr th {\n",
       "        vertical-align: top;\n",
       "    }\n",
       "\n",
       "    .dataframe thead th {\n",
       "        text-align: right;\n",
       "    }\n",
       "</style>\n",
       "<table border=\"1\" class=\"dataframe\">\n",
       "  <thead>\n",
       "    <tr style=\"text-align: right;\">\n",
       "      <th></th>\n",
       "      <th>Area</th>\n",
       "      <th>BHK</th>\n",
       "      <th>Bathroom</th>\n",
       "      <th>Parking</th>\n",
       "      <th>Price</th>\n",
       "      <th>Per_Sqft</th>\n",
       "    </tr>\n",
       "  </thead>\n",
       "  <tbody>\n",
       "    <tr>\n",
       "      <th>count</th>\n",
       "      <td>1259.000000</td>\n",
       "      <td>1259.000000</td>\n",
       "      <td>1257.000000</td>\n",
       "      <td>1226.000000</td>\n",
       "      <td>1.259000e+03</td>\n",
       "      <td>1018.000000</td>\n",
       "    </tr>\n",
       "    <tr>\n",
       "      <th>mean</th>\n",
       "      <td>1466.452724</td>\n",
       "      <td>2.796664</td>\n",
       "      <td>2.556086</td>\n",
       "      <td>1.935563</td>\n",
       "      <td>2.130670e+07</td>\n",
       "      <td>15690.136542</td>\n",
       "    </tr>\n",
       "    <tr>\n",
       "      <th>std</th>\n",
       "      <td>1568.055040</td>\n",
       "      <td>0.954425</td>\n",
       "      <td>1.042220</td>\n",
       "      <td>6.279212</td>\n",
       "      <td>2.560115e+07</td>\n",
       "      <td>21134.738568</td>\n",
       "    </tr>\n",
       "    <tr>\n",
       "      <th>min</th>\n",
       "      <td>28.000000</td>\n",
       "      <td>1.000000</td>\n",
       "      <td>1.000000</td>\n",
       "      <td>1.000000</td>\n",
       "      <td>1.000000e+06</td>\n",
       "      <td>1259.000000</td>\n",
       "    </tr>\n",
       "    <tr>\n",
       "      <th>25%</th>\n",
       "      <td>800.000000</td>\n",
       "      <td>2.000000</td>\n",
       "      <td>2.000000</td>\n",
       "      <td>1.000000</td>\n",
       "      <td>5.700000e+06</td>\n",
       "      <td>6364.000000</td>\n",
       "    </tr>\n",
       "    <tr>\n",
       "      <th>50%</th>\n",
       "      <td>1200.000000</td>\n",
       "      <td>3.000000</td>\n",
       "      <td>2.000000</td>\n",
       "      <td>1.000000</td>\n",
       "      <td>1.420000e+07</td>\n",
       "      <td>11291.500000</td>\n",
       "    </tr>\n",
       "    <tr>\n",
       "      <th>75%</th>\n",
       "      <td>1700.000000</td>\n",
       "      <td>3.000000</td>\n",
       "      <td>3.000000</td>\n",
       "      <td>2.000000</td>\n",
       "      <td>2.550000e+07</td>\n",
       "      <td>18000.000000</td>\n",
       "    </tr>\n",
       "    <tr>\n",
       "      <th>max</th>\n",
       "      <td>24300.000000</td>\n",
       "      <td>10.000000</td>\n",
       "      <td>7.000000</td>\n",
       "      <td>114.000000</td>\n",
       "      <td>2.400000e+08</td>\n",
       "      <td>183333.000000</td>\n",
       "    </tr>\n",
       "  </tbody>\n",
       "</table>\n",
       "</div>"
      ],
      "text/plain": [
       "               Area          BHK     Bathroom      Parking         Price  \\\n",
       "count   1259.000000  1259.000000  1257.000000  1226.000000  1.259000e+03   \n",
       "mean    1466.452724     2.796664     2.556086     1.935563  2.130670e+07   \n",
       "std     1568.055040     0.954425     1.042220     6.279212  2.560115e+07   \n",
       "min       28.000000     1.000000     1.000000     1.000000  1.000000e+06   \n",
       "25%      800.000000     2.000000     2.000000     1.000000  5.700000e+06   \n",
       "50%     1200.000000     3.000000     2.000000     1.000000  1.420000e+07   \n",
       "75%     1700.000000     3.000000     3.000000     2.000000  2.550000e+07   \n",
       "max    24300.000000    10.000000     7.000000   114.000000  2.400000e+08   \n",
       "\n",
       "            Per_Sqft  \n",
       "count    1018.000000  \n",
       "mean    15690.136542  \n",
       "std     21134.738568  \n",
       "min      1259.000000  \n",
       "25%      6364.000000  \n",
       "50%     11291.500000  \n",
       "75%     18000.000000  \n",
       "max    183333.000000  "
      ]
     },
     "execution_count": 3,
     "metadata": {},
     "output_type": "execute_result"
    }
   ],
   "source": [
    "data.describe()"
   ]
  },
  {
   "cell_type": "code",
   "execution_count": 4,
   "id": "64a25a34",
   "metadata": {},
   "outputs": [
    {
     "name": "stdout",
     "output_type": "stream",
     "text": [
      "<class 'pandas.core.frame.DataFrame'>\n",
      "RangeIndex: 1259 entries, 0 to 1258\n",
      "Data columns (total 11 columns):\n",
      " #   Column       Non-Null Count  Dtype  \n",
      "---  ------       --------------  -----  \n",
      " 0   Area         1259 non-null   float64\n",
      " 1   BHK          1259 non-null   int64  \n",
      " 2   Bathroom     1257 non-null   float64\n",
      " 3   Furnishing   1254 non-null   object \n",
      " 4   Locality     1259 non-null   object \n",
      " 5   Parking      1226 non-null   float64\n",
      " 6   Price        1259 non-null   int64  \n",
      " 7   Status       1259 non-null   object \n",
      " 8   Transaction  1259 non-null   object \n",
      " 9   Type         1254 non-null   object \n",
      " 10  Per_Sqft     1018 non-null   float64\n",
      "dtypes: float64(4), int64(2), object(5)\n",
      "memory usage: 108.3+ KB\n"
     ]
    }
   ],
   "source": [
    "data.info()"
   ]
  },
  {
   "cell_type": "code",
   "execution_count": 5,
   "id": "280fe88d",
   "metadata": {},
   "outputs": [
    {
     "data": {
      "text/plain": [
       "(1259, 11)"
      ]
     },
     "execution_count": 5,
     "metadata": {},
     "output_type": "execute_result"
    }
   ],
   "source": [
    "data.shape"
   ]
  },
  {
   "cell_type": "code",
   "execution_count": 6,
   "id": "120bb529",
   "metadata": {},
   "outputs": [
    {
     "data": {
      "text/plain": [
       "Area             0\n",
       "BHK              0\n",
       "Bathroom         2\n",
       "Furnishing       5\n",
       "Locality         0\n",
       "Parking         33\n",
       "Price            0\n",
       "Status           0\n",
       "Transaction      0\n",
       "Type             5\n",
       "Per_Sqft       241\n",
       "dtype: int64"
      ]
     },
     "execution_count": 6,
     "metadata": {},
     "output_type": "execute_result"
    }
   ],
   "source": [
    "data.isnull().sum()"
   ]
  },
  {
   "cell_type": "code",
   "execution_count": 7,
   "id": "27679fbb",
   "metadata": {},
   "outputs": [],
   "source": [
    "data['Per_Sqft'].fillna(data['Price']/data['Area'], inplace = True)\n",
    "data['Parking'].fillna(data['Parking'].mode()[0], inplace = True)\n",
    "data.dropna(inplace= True)"
   ]
  },
  {
   "cell_type": "code",
   "execution_count": 8,
   "id": "b98336d3",
   "metadata": {},
   "outputs": [
    {
     "data": {
      "text/plain": [
       "Area           0\n",
       "BHK            0\n",
       "Bathroom       0\n",
       "Furnishing     0\n",
       "Locality       0\n",
       "Parking        0\n",
       "Price          0\n",
       "Status         0\n",
       "Transaction    0\n",
       "Type           0\n",
       "Per_Sqft       0\n",
       "dtype: int64"
      ]
     },
     "execution_count": 8,
     "metadata": {},
     "output_type": "execute_result"
    }
   ],
   "source": [
    "data.isnull().sum()"
   ]
  },
  {
   "cell_type": "code",
   "execution_count": 9,
   "id": "d7808493",
   "metadata": {},
   "outputs": [
    {
     "data": {
      "text/plain": [
       "Area           float64\n",
       "BHK              int64\n",
       "Bathroom       float64\n",
       "Furnishing      object\n",
       "Locality        object\n",
       "Parking        float64\n",
       "Price            int64\n",
       "Status          object\n",
       "Transaction     object\n",
       "Type            object\n",
       "Per_Sqft       float64\n",
       "dtype: object"
      ]
     },
     "execution_count": 9,
     "metadata": {},
     "output_type": "execute_result"
    }
   ],
   "source": [
    "data.dtypes"
   ]
  },
  {
   "cell_type": "code",
   "execution_count": 10,
   "id": "7aa76767",
   "metadata": {},
   "outputs": [
    {
     "data": {
      "text/plain": [
       "Area           315\n",
       "BHK              8\n",
       "Bathroom         7\n",
       "Furnishing       3\n",
       "Locality       363\n",
       "Parking          9\n",
       "Price          284\n",
       "Status           2\n",
       "Transaction      2\n",
       "Type             2\n",
       "Per_Sqft       430\n",
       "dtype: int64"
      ]
     },
     "execution_count": 10,
     "metadata": {},
     "output_type": "execute_result"
    }
   ],
   "source": [
    "data.nunique()"
   ]
  },
  {
   "cell_type": "code",
   "execution_count": 11,
   "id": "39c76cfc",
   "metadata": {},
   "outputs": [
    {
     "data": {
      "text/plain": [
       "Locality\n",
       "Lajpat Nagar 3                                                  34\n",
       "Lajpat Nagar 2                                                  31\n",
       "J R Designers Floors, Rohini Sector 24                          31\n",
       "Kailash Colony, Greater Kailash                                 30\n",
       "Yamuna Vihar, Shahdara                                          29\n",
       "Laxmi Nagar                                                     25\n",
       "Mehrauli                                                        24\n",
       "Chittaranjan Park                                               24\n",
       "Saket                                                           21\n",
       "Alaknanda                                                       20\n",
       "DDA Flats Sarita Vihar, Sarita Vihar, Mathura Road              19\n",
       "Safdarjung Enclave                                              18\n",
       "Chhattarpur                                                     17\n",
       "Sheikh Sarai Phase 1                                            17\n",
       "The Amaryllis, Karol Bagh                                       17\n",
       "Dilshad Colony, Dilshad Garden                                  16\n",
       "Common Wealth Games Village, Commonwealth Games Village 2010    15\n",
       "Patel Nagar West                                                15\n",
       "Mahavir Enclave Part 1                                          15\n",
       "DLF Capital Greens, New Moti Nagar, Kirti Nagar                 14\n",
       "New Moti Nagar, Kirti Nagar                                     14\n",
       "New Friends Colony                                              14\n",
       "Malviya Nagar                                                   13\n",
       "Hauz Khas                                                       12\n",
       "Vasundhara Enclave                                              12\n",
       "Name: count, dtype: int64"
      ]
     },
     "execution_count": 11,
     "metadata": {},
     "output_type": "execute_result"
    }
   ],
   "source": [
    "data['Locality'].value_counts().head(25)"
   ]
  },
  {
   "cell_type": "code",
   "execution_count": 12,
   "id": "32e74055",
   "metadata": {},
   "outputs": [
    {
     "ename": "KeyError",
     "evalue": "\"['parking'] not in index\"",
     "output_type": "error",
     "traceback": [
      "\u001b[1;31m---------------------------------------------------------------------------\u001b[0m",
      "\u001b[1;31mKeyError\u001b[0m                                  Traceback (most recent call last)",
      "Cell \u001b[1;32mIn[12], line 1\u001b[0m\n\u001b[1;32m----> 1\u001b[0m \u001b[43mdata\u001b[49m\u001b[43m[\u001b[49m\u001b[43m[\u001b[49m\u001b[38;5;124;43m'\u001b[39;49m\u001b[38;5;124;43mparking\u001b[39;49m\u001b[38;5;124;43m'\u001b[39;49m\u001b[43m,\u001b[49m\u001b[43m \u001b[49m\u001b[38;5;124;43m'\u001b[39;49m\u001b[38;5;124;43mBathroom\u001b[39;49m\u001b[38;5;124;43m'\u001b[39;49m\u001b[43m]\u001b[49m\u001b[43m]\u001b[49m\u001b[38;5;241m.\u001b[39mastype(\u001b[38;5;124m'\u001b[39m\u001b[38;5;124mint64\u001b[39m\u001b[38;5;124m'\u001b[39m)\n",
      "File \u001b[1;32m~\\AppData\\Roaming\\Python\\Python311\\site-packages\\pandas\\core\\frame.py:3767\u001b[0m, in \u001b[0;36mDataFrame.__getitem__\u001b[1;34m(self, key)\u001b[0m\n\u001b[0;32m   3765\u001b[0m     \u001b[38;5;28;01mif\u001b[39;00m is_iterator(key):\n\u001b[0;32m   3766\u001b[0m         key \u001b[38;5;241m=\u001b[39m \u001b[38;5;28mlist\u001b[39m(key)\n\u001b[1;32m-> 3767\u001b[0m     indexer \u001b[38;5;241m=\u001b[39m \u001b[38;5;28;43mself\u001b[39;49m\u001b[38;5;241;43m.\u001b[39;49m\u001b[43mcolumns\u001b[49m\u001b[38;5;241;43m.\u001b[39;49m\u001b[43m_get_indexer_strict\u001b[49m\u001b[43m(\u001b[49m\u001b[43mkey\u001b[49m\u001b[43m,\u001b[49m\u001b[43m \u001b[49m\u001b[38;5;124;43m\"\u001b[39;49m\u001b[38;5;124;43mcolumns\u001b[39;49m\u001b[38;5;124;43m\"\u001b[39;49m\u001b[43m)\u001b[49m[\u001b[38;5;241m1\u001b[39m]\n\u001b[0;32m   3769\u001b[0m \u001b[38;5;66;03m# take() does not accept boolean indexers\u001b[39;00m\n\u001b[0;32m   3770\u001b[0m \u001b[38;5;28;01mif\u001b[39;00m \u001b[38;5;28mgetattr\u001b[39m(indexer, \u001b[38;5;124m\"\u001b[39m\u001b[38;5;124mdtype\u001b[39m\u001b[38;5;124m\"\u001b[39m, \u001b[38;5;28;01mNone\u001b[39;00m) \u001b[38;5;241m==\u001b[39m \u001b[38;5;28mbool\u001b[39m:\n",
      "File \u001b[1;32m~\\AppData\\Roaming\\Python\\Python311\\site-packages\\pandas\\core\\indexes\\base.py:5877\u001b[0m, in \u001b[0;36mIndex._get_indexer_strict\u001b[1;34m(self, key, axis_name)\u001b[0m\n\u001b[0;32m   5874\u001b[0m \u001b[38;5;28;01melse\u001b[39;00m:\n\u001b[0;32m   5875\u001b[0m     keyarr, indexer, new_indexer \u001b[38;5;241m=\u001b[39m \u001b[38;5;28mself\u001b[39m\u001b[38;5;241m.\u001b[39m_reindex_non_unique(keyarr)\n\u001b[1;32m-> 5877\u001b[0m \u001b[38;5;28;43mself\u001b[39;49m\u001b[38;5;241;43m.\u001b[39;49m\u001b[43m_raise_if_missing\u001b[49m\u001b[43m(\u001b[49m\u001b[43mkeyarr\u001b[49m\u001b[43m,\u001b[49m\u001b[43m \u001b[49m\u001b[43mindexer\u001b[49m\u001b[43m,\u001b[49m\u001b[43m \u001b[49m\u001b[43maxis_name\u001b[49m\u001b[43m)\u001b[49m\n\u001b[0;32m   5879\u001b[0m keyarr \u001b[38;5;241m=\u001b[39m \u001b[38;5;28mself\u001b[39m\u001b[38;5;241m.\u001b[39mtake(indexer)\n\u001b[0;32m   5880\u001b[0m \u001b[38;5;28;01mif\u001b[39;00m \u001b[38;5;28misinstance\u001b[39m(key, Index):\n\u001b[0;32m   5881\u001b[0m     \u001b[38;5;66;03m# GH 42790 - Preserve name from an Index\u001b[39;00m\n",
      "File \u001b[1;32m~\\AppData\\Roaming\\Python\\Python311\\site-packages\\pandas\\core\\indexes\\base.py:5941\u001b[0m, in \u001b[0;36mIndex._raise_if_missing\u001b[1;34m(self, key, indexer, axis_name)\u001b[0m\n\u001b[0;32m   5938\u001b[0m     \u001b[38;5;28;01mraise\u001b[39;00m \u001b[38;5;167;01mKeyError\u001b[39;00m(\u001b[38;5;124mf\u001b[39m\u001b[38;5;124m\"\u001b[39m\u001b[38;5;124mNone of [\u001b[39m\u001b[38;5;132;01m{\u001b[39;00mkey\u001b[38;5;132;01m}\u001b[39;00m\u001b[38;5;124m] are in the [\u001b[39m\u001b[38;5;132;01m{\u001b[39;00maxis_name\u001b[38;5;132;01m}\u001b[39;00m\u001b[38;5;124m]\u001b[39m\u001b[38;5;124m\"\u001b[39m)\n\u001b[0;32m   5940\u001b[0m not_found \u001b[38;5;241m=\u001b[39m \u001b[38;5;28mlist\u001b[39m(ensure_index(key)[missing_mask\u001b[38;5;241m.\u001b[39mnonzero()[\u001b[38;5;241m0\u001b[39m]]\u001b[38;5;241m.\u001b[39munique())\n\u001b[1;32m-> 5941\u001b[0m \u001b[38;5;28;01mraise\u001b[39;00m \u001b[38;5;167;01mKeyError\u001b[39;00m(\u001b[38;5;124mf\u001b[39m\u001b[38;5;124m\"\u001b[39m\u001b[38;5;132;01m{\u001b[39;00mnot_found\u001b[38;5;132;01m}\u001b[39;00m\u001b[38;5;124m not in index\u001b[39m\u001b[38;5;124m\"\u001b[39m)\n",
      "\u001b[1;31mKeyError\u001b[0m: \"['parking'] not in index\""
     ]
    }
   ],
   "source": [
    "data[['parking', 'Bathroom']].astype('int64')"
   ]
  },
  {
   "cell_type": "code",
   "execution_count": null,
   "id": "2f6a9ad0",
   "metadata": {},
   "outputs": [],
   "source": []
  }
 ],
 "metadata": {
  "kernelspec": {
   "display_name": "Python 3 (ipykernel)",
   "language": "python",
   "name": "python3"
  },
  "language_info": {
   "codemirror_mode": {
    "name": "ipython",
    "version": 3
   },
   "file_extension": ".py",
   "mimetype": "text/x-python",
   "name": "python",
   "nbconvert_exporter": "python",
   "pygments_lexer": "ipython3",
   "version": "3.11.4"
  }
 },
 "nbformat": 4,
 "nbformat_minor": 5
}
